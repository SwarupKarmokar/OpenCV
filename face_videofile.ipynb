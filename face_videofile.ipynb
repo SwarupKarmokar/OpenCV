{
 "cells": [
  {
   "cell_type": "code",
   "execution_count": 1,
   "metadata": {},
   "outputs": [],
   "source": [
    "import os\n",
    "import cv2\n",
    "import face_recognition"
   ]
  },
  {
   "cell_type": "code",
   "execution_count": 2,
   "metadata": {},
   "outputs": [],
   "source": [
    "video_capture = cv2.VideoCapture(\"video.mp4\")\n",
    "\n",
    "dhoni_img = face_recognition.load_image_file('./known/dhoni.jpg')\n",
    "dhoni_face_encoding = face_recognition.face_encodings(dhoni_img)[0]\n",
    "\n",
    "kohli_img = face_recognition.load_image_file('./known/kohili.jpg')\n",
    "kohli_face_encoding = face_recognition.face_encodings(kohli_img)[0]\n",
    "\n",
    "known_faces_encodings  = [dhoni_face_encoding, kohli_face_encoding]\n",
    "known_faces_name = [\"DHONI\",\"KOHLI\"]"
   ]
  },
  {
   "cell_type": "code",
   "execution_count": null,
   "metadata": {},
   "outputs": [],
   "source": [
    "while True:\n",
    "    ret, frame = video_capture.read()\n",
    "    \n",
    "    face_locations = face_recognition.face_locations(frame)\n",
    "    face_encodings = face_recognition.face_encodings(frame, face_locations)\n",
    "    \n",
    "    for (top,right,bottom,left), face_encoding in zip(face_locations, face_encodings):\n",
    "        \n",
    "        matches = face_recognition.compare_faces(known_faces_encodings, face_encoding)\n",
    "        name = \"unknown\"\n",
    "        \n",
    "        if True in matches:\n",
    "            \n",
    "            first_match_index = matches.index(True)\n",
    "            name = known_faces_name[first_match_index]\n",
    "            \n",
    "        cv2.rectangle(frame,(left,top),(right,bottom),(0,0,255),1)\n",
    "        font = cv2.FONT_HERSHEY_DUPLEX\n",
    "        cv2.putText(frame,name,(left + 6, bottom - 6), font, 1.0, (255,255,255), 1)\n",
    "        \n",
    "    cv2.imshow('Video', frame)\n",
    "    if cv2.waitKey(1) & 0xFF == ord('q'):\n",
    "        break\n",
    "\n",
    "video_capture.release()\n",
    "cv2.destroyAllWindows()"
   ]
  },
  {
   "cell_type": "code",
   "execution_count": null,
   "metadata": {},
   "outputs": [],
   "source": []
  }
 ],
 "metadata": {
  "kernelspec": {
   "display_name": "Python 3",
   "language": "python",
   "name": "python3"
  },
  "language_info": {
   "codemirror_mode": {
    "name": "ipython",
    "version": 3
   },
   "file_extension": ".py",
   "mimetype": "text/x-python",
   "name": "python",
   "nbconvert_exporter": "python",
   "pygments_lexer": "ipython3",
   "version": "3.7.6"
  }
 },
 "nbformat": 4,
 "nbformat_minor": 4
}
